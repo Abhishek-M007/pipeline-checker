{
 "cells": [
  {
   "cell_type": "code",
   "execution_count": 1,
   "id": "c4c093bd",
   "metadata": {},
   "outputs": [
    {
     "name": "stdout",
     "output_type": "stream",
     "text": [
      "4.34.2\n"
     ]
    }
   ],
   "source": [
    "import selenium\n",
    "print(selenium.__version__)"
   ]
  },
  {
   "cell_type": "code",
   "execution_count": 2,
   "id": "441637d9",
   "metadata": {},
   "outputs": [
    {
     "name": "stdout",
     "output_type": "stream",
     "text": [
      "✅ Site loaded.\n"
     ]
    }
   ],
   "source": [
    "from selenium import webdriver\n",
    "from selenium.webdriver.chrome.service import Service\n",
    "from selenium.webdriver.chrome.options import Options\n",
    "from selenium.webdriver.common.by import By\n",
    "\n",
    "options = Options()\n",
    "options.add_argument(\"--headless\")\n",
    "service = Service(\"chromedriver.exe\")\n",
    "\n",
    "driver = webdriver.Chrome(service=service, options=options)\n",
    "\n",
    "driver.get(\"https://books.toscrape.com\")\n",
    "print(\"✅ Site loaded.\")"
   ]
  },
  {
   "cell_type": "code",
   "execution_count": 5,
   "id": "42a20ea5",
   "metadata": {},
   "outputs": [
    {
     "data": {
      "text/html": [
       "<div>\n",
       "<style scoped>\n",
       "    .dataframe tbody tr th:only-of-type {\n",
       "        vertical-align: middle;\n",
       "    }\n",
       "\n",
       "    .dataframe tbody tr th {\n",
       "        vertical-align: top;\n",
       "    }\n",
       "\n",
       "    .dataframe thead th {\n",
       "        text-align: right;\n",
       "    }\n",
       "</style>\n",
       "<table border=\"1\" class=\"dataframe\">\n",
       "  <thead>\n",
       "    <tr style=\"text-align: right;\">\n",
       "      <th></th>\n",
       "      <th>title</th>\n",
       "      <th>price</th>\n",
       "      <th>availability</th>\n",
       "    </tr>\n",
       "  </thead>\n",
       "  <tbody>\n",
       "    <tr>\n",
       "      <th>0</th>\n",
       "      <td>A Light in the Attic</td>\n",
       "      <td>£51.77</td>\n",
       "      <td>In stock</td>\n",
       "    </tr>\n",
       "    <tr>\n",
       "      <th>1</th>\n",
       "      <td>Tipping the Velvet</td>\n",
       "      <td>£53.74</td>\n",
       "      <td>In stock</td>\n",
       "    </tr>\n",
       "    <tr>\n",
       "      <th>2</th>\n",
       "      <td>Soumission</td>\n",
       "      <td>£50.10</td>\n",
       "      <td>In stock</td>\n",
       "    </tr>\n",
       "    <tr>\n",
       "      <th>3</th>\n",
       "      <td>Sharp Objects</td>\n",
       "      <td>£47.82</td>\n",
       "      <td>In stock</td>\n",
       "    </tr>\n",
       "    <tr>\n",
       "      <th>4</th>\n",
       "      <td>Sapiens: A Brief History of Humankind</td>\n",
       "      <td>£54.23</td>\n",
       "      <td>In stock</td>\n",
       "    </tr>\n",
       "  </tbody>\n",
       "</table>\n",
       "</div>"
      ],
      "text/plain": [
       "                                   title   price availability\n",
       "0                   A Light in the Attic  £51.77     In stock\n",
       "1                     Tipping the Velvet  £53.74     In stock\n",
       "2                             Soumission  £50.10     In stock\n",
       "3                          Sharp Objects  £47.82     In stock\n",
       "4  Sapiens: A Brief History of Humankind  £54.23     In stock"
      ]
     },
     "execution_count": 5,
     "metadata": {},
     "output_type": "execute_result"
    }
   ],
   "source": [
    "from selenium.webdriver.common.by import By\n",
    "import pandas as pd\n",
    "\n",
    "# Find all book containers\n",
    "books = driver.find_elements(By.CLASS_NAME, \"product_pod\")\n",
    "\n",
    "data = []\n",
    "\n",
    "for book in books:\n",
    "    title = book.find_element(By.TAG_NAME, \"h3\").find_element(By.TAG_NAME, \"a\").get_attribute(\"title\")\n",
    "    price = book.find_element(By.CLASS_NAME, \"price_color\").text\n",
    "    availability = book.find_element(By.CLASS_NAME, \"availability\").text.strip()\n",
    "\n",
    "    data.append({\n",
    "        \"title\": title,\n",
    "        \"price\": price,\n",
    "        \"availability\": availability\n",
    "    })\n",
    "\n",
    "# Create DataFrame\n",
    "df = pd.DataFrame(data)\n",
    "df.head()"
   ]
  },
  {
   "cell_type": "code",
   "execution_count": 6,
   "id": "c0f1e852",
   "metadata": {},
   "outputs": [
    {
     "name": "stdout",
     "output_type": "stream",
     "text": [
      "✅ Data saved to books_data.csv\n"
     ]
    }
   ],
   "source": [
    "# Save the data to CSV\n",
    "df.to_csv(\"books_data.csv\", index=False)\n",
    "\n",
    "print(\"✅ Data saved to books_data.csv\")"
   ]
  },
  {
   "cell_type": "code",
   "execution_count": 7,
   "id": "e9c13dd8",
   "metadata": {},
   "outputs": [
    {
     "name": "stdout",
     "output_type": "stream",
     "text": [
      "Average book price: 38.05\n",
      "Max price: 57.25\n",
      "Min price: 13.99\n"
     ]
    }
   ],
   "source": [
    "# Clean up price column (remove £ and convert to float)\n",
    "df['price'] = df['price'].str.replace('£', '').astype(float)\n",
    "\n",
    "# Basic insights\n",
    "print(\"Average book price:\", round(df['price'].mean(), 2))\n",
    "print(\"Max price:\", df['price'].max())\n",
    "print(\"Min price:\", df['price'].min())"
   ]
  },
  {
   "cell_type": "code",
   "execution_count": 8,
   "id": "2d66e118",
   "metadata": {},
   "outputs": [
    {
     "name": "stdout",
     "output_type": "stream",
     "text": [
      "✅ All pages scraped and saved!\n"
     ]
    },
    {
     "data": {
      "text/html": [
       "<div>\n",
       "<style scoped>\n",
       "    .dataframe tbody tr th:only-of-type {\n",
       "        vertical-align: middle;\n",
       "    }\n",
       "\n",
       "    .dataframe tbody tr th {\n",
       "        vertical-align: top;\n",
       "    }\n",
       "\n",
       "    .dataframe thead th {\n",
       "        text-align: right;\n",
       "    }\n",
       "</style>\n",
       "<table border=\"1\" class=\"dataframe\">\n",
       "  <thead>\n",
       "    <tr style=\"text-align: right;\">\n",
       "      <th></th>\n",
       "      <th>title</th>\n",
       "      <th>price</th>\n",
       "      <th>availability</th>\n",
       "    </tr>\n",
       "  </thead>\n",
       "  <tbody>\n",
       "    <tr>\n",
       "      <th>0</th>\n",
       "      <td>A Light in the ...</td>\n",
       "      <td>51.77</td>\n",
       "      <td>In stock</td>\n",
       "    </tr>\n",
       "    <tr>\n",
       "      <th>1</th>\n",
       "      <td>Tipping the Velvet</td>\n",
       "      <td>53.74</td>\n",
       "      <td>In stock</td>\n",
       "    </tr>\n",
       "    <tr>\n",
       "      <th>2</th>\n",
       "      <td>Soumission</td>\n",
       "      <td>50.10</td>\n",
       "      <td>In stock</td>\n",
       "    </tr>\n",
       "    <tr>\n",
       "      <th>3</th>\n",
       "      <td>Sharp Objects</td>\n",
       "      <td>47.82</td>\n",
       "      <td>In stock</td>\n",
       "    </tr>\n",
       "    <tr>\n",
       "      <th>4</th>\n",
       "      <td>Sapiens: A Brief History ...</td>\n",
       "      <td>54.23</td>\n",
       "      <td>In stock</td>\n",
       "    </tr>\n",
       "  </tbody>\n",
       "</table>\n",
       "</div>"
      ],
      "text/plain": [
       "                          title  price availability\n",
       "0            A Light in the ...  51.77     In stock\n",
       "1            Tipping the Velvet  53.74     In stock\n",
       "2                    Soumission  50.10     In stock\n",
       "3                 Sharp Objects  47.82     In stock\n",
       "4  Sapiens: A Brief History ...  54.23     In stock"
      ]
     },
     "execution_count": 8,
     "metadata": {},
     "output_type": "execute_result"
    }
   ],
   "source": [
    "from selenium.common.exceptions import NoSuchElementException\n",
    "\n",
    "all_data = []\n",
    "\n",
    "while True:\n",
    "    books = driver.find_elements(By.CLASS_NAME, \"product_pod\")\n",
    "    \n",
    "    for book in books:\n",
    "        title = book.find_element(By.TAG_NAME, \"h3\").text\n",
    "        price = book.find_element(By.CLASS_NAME, \"price_color\").text\n",
    "        availability = book.find_element(By.CLASS_NAME, \"availability\").text.strip()\n",
    "\n",
    "        all_data.append({\n",
    "            \"title\": title,\n",
    "            \"price\": price,\n",
    "            \"availability\": availability\n",
    "        })\n",
    "    \n",
    "    # Try to go to next page\n",
    "    try:\n",
    "        next_button = driver.find_element(By.CLASS_NAME, \"next\")\n",
    "        next_page_url = next_button.find_element(By.TAG_NAME, \"a\").get_attribute(\"href\")\n",
    "        driver.get(next_page_url)\n",
    "    except NoSuchElementException:\n",
    "        break  # No next page, we're done\n",
    "\n",
    "# Convert to DataFrame\n",
    "df_all = pd.DataFrame(all_data)\n",
    "df_all['price'] = df_all['price'].str.replace('£', '').astype(float)\n",
    "df_all.to_csv(\"books_all_pages.csv\", index=False)\n",
    "print(\"✅ All pages scraped and saved!\")\n",
    "df_all.head()"
   ]
  },
  {
   "cell_type": "code",
   "execution_count": null,
   "id": "eecb6f00",
   "metadata": {},
   "outputs": [],
   "source": []
  }
 ],
 "metadata": {
  "kernelspec": {
   "display_name": "Python 3 (ipykernel)",
   "language": "python",
   "name": "python3"
  },
  "language_info": {
   "codemirror_mode": {
    "name": "ipython",
    "version": 3
   },
   "file_extension": ".py",
   "mimetype": "text/x-python",
   "name": "python",
   "nbconvert_exporter": "python",
   "pygments_lexer": "ipython3",
   "version": "3.11.5"
  }
 },
 "nbformat": 4,
 "nbformat_minor": 5
}
